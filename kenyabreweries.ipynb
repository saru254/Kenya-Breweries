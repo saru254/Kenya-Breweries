{
 "cells": [
  {
   "cell_type": "markdown",
   "metadata": {},
   "source": [
    "<h1>Intro</h1>\n",
    "East African Breweries Limited, commonly referred to as EABL, is a Kenyan-based holding company that manufactures branded beer, spirits, and non-alcoholic beverages\n",
    "The dataset is categorical\n",
    "\n",
    "Questions considered based on the dataset:\n",
    "1. Product Analysis\n",
    "* what are the best selling product or brands?\n",
    "* Are there seasonal trends in product sales?\n",
    "* How do sales vary by product category or region?\n",
    "\n",
    "2. Customer Insights\n",
    "* Who are the primary consumers of these products?\n",
    "* Are there any trends in customer preferences over time?\n",
    "\n",
    "<h1>Objectives</h1>\n",
    "\n",
    "1. Gather, Clean and prepare data\n",
    "\n",
    "2. Exploratory analysis\n",
    "\n",
    "3. Statistical model\n",
    "\n",
    "4. Visualizations"
   ]
  },
  {
   "cell_type": "code",
   "execution_count": 19,
   "metadata": {},
   "outputs": [],
   "source": [
    "#importing the necessary libraries\n",
    "\n",
    "import pandas as pd\n",
    "import numpy as np\n",
    "from wordcloud import wordcloud # visual representations of text data\n",
    "import seaborn as sns\n",
    "import matplotlib.pyplot as plt"
   ]
  },
  {
   "cell_type": "code",
   "execution_count": 20,
   "metadata": {},
   "outputs": [],
   "source": [
    "#loading the datatset\n",
    "sales = pd.read_excel(\"october sales.xlsx\")"
   ]
  },
  {
   "cell_type": "code",
   "execution_count": 21,
   "metadata": {},
   "outputs": [
    {
     "data": {
      "text/html": [
       "<div>\n",
       "<style scoped>\n",
       "    .dataframe tbody tr th:only-of-type {\n",
       "        vertical-align: middle;\n",
       "    }\n",
       "\n",
       "    .dataframe tbody tr th {\n",
       "        vertical-align: top;\n",
       "    }\n",
       "\n",
       "    .dataframe thead th {\n",
       "        text-align: right;\n",
       "    }\n",
       "</style>\n",
       "<table border=\"1\" class=\"dataframe\">\n",
       "  <thead>\n",
       "    <tr style=\"text-align: right;\">\n",
       "      <th></th>\n",
       "      <th>CUST_CD</th>\n",
       "      <th>CUST_NAME</th>\n",
       "      <th>Gloabl_Channel</th>\n",
       "      <th>Global_Sub_segment</th>\n",
       "      <th>Local_Segment1</th>\n",
       "      <th>Local_Segment3</th>\n",
       "      <th>Volume_Grade</th>\n",
       "      <th>Archi_Type</th>\n",
       "      <th>OBOS</th>\n",
       "      <th>Division</th>\n",
       "      <th>Area</th>\n",
       "      <th>Territory</th>\n",
       "      <th>Route</th>\n",
       "      <th>LEVEL1</th>\n",
       "      <th>PRD_DESC</th>\n",
       "      <th>UOM</th>\n",
       "      <th>SALEQTY</th>\n",
       "    </tr>\n",
       "  </thead>\n",
       "  <tbody>\n",
       "    <tr>\n",
       "      <th>0</th>\n",
       "      <td>KE0018490</td>\n",
       "      <td>680, Kavote</td>\n",
       "      <td>On Trade</td>\n",
       "      <td>Traditional Bar</td>\n",
       "      <td>Value</td>\n",
       "      <td>Kawaida</td>\n",
       "      <td>Platinum</td>\n",
       "      <td>Rural Accessible</td>\n",
       "      <td>Senator</td>\n",
       "      <td>Emerging Business</td>\n",
       "      <td>Nyeri (EB)</td>\n",
       "      <td>Kianyaga (EB)</td>\n",
       "      <td>Karumandi</td>\n",
       "      <td>Alcoholic Pre-Mix Drink</td>\n",
       "      <td>S.Ice Black Can 330ml</td>\n",
       "      <td>CAS</td>\n",
       "      <td>0.00</td>\n",
       "    </tr>\n",
       "    <tr>\n",
       "      <th>1</th>\n",
       "      <td>KE0018490</td>\n",
       "      <td>680, Kavote</td>\n",
       "      <td>On Trade</td>\n",
       "      <td>Traditional Bar</td>\n",
       "      <td>Value</td>\n",
       "      <td>Kawaida</td>\n",
       "      <td>Platinum</td>\n",
       "      <td>Rural Accessible</td>\n",
       "      <td>Senator</td>\n",
       "      <td>Emerging Business</td>\n",
       "      <td>Nyeri (EB)</td>\n",
       "      <td>Kianyaga (EB)</td>\n",
       "      <td>Karumandi</td>\n",
       "      <td>Alcoholic Pre-Mix Drink</td>\n",
       "      <td>S.Ice Guarana Can</td>\n",
       "      <td>CAS</td>\n",
       "      <td>0.17</td>\n",
       "    </tr>\n",
       "    <tr>\n",
       "      <th>2</th>\n",
       "      <td>KE0018490</td>\n",
       "      <td>680, Kavote</td>\n",
       "      <td>On Trade</td>\n",
       "      <td>Traditional Bar</td>\n",
       "      <td>Value</td>\n",
       "      <td>Kawaida</td>\n",
       "      <td>Platinum</td>\n",
       "      <td>Rural Accessible</td>\n",
       "      <td>Senator</td>\n",
       "      <td>Emerging Business</td>\n",
       "      <td>Nyeri (EB)</td>\n",
       "      <td>Kianyaga (EB)</td>\n",
       "      <td>Karumandi</td>\n",
       "      <td>Alcoholic Pre-Mix Drink</td>\n",
       "      <td>S.Ice Pineapple Punch Can</td>\n",
       "      <td>CAS</td>\n",
       "      <td>0.92</td>\n",
       "    </tr>\n",
       "    <tr>\n",
       "      <th>3</th>\n",
       "      <td>KE0018490</td>\n",
       "      <td>680, Kavote</td>\n",
       "      <td>On Trade</td>\n",
       "      <td>Traditional Bar</td>\n",
       "      <td>Value</td>\n",
       "      <td>Kawaida</td>\n",
       "      <td>Platinum</td>\n",
       "      <td>Rural Accessible</td>\n",
       "      <td>Senator</td>\n",
       "      <td>Emerging Business</td>\n",
       "      <td>Nyeri (EB)</td>\n",
       "      <td>Kianyaga (EB)</td>\n",
       "      <td>Karumandi</td>\n",
       "      <td>Beer</td>\n",
       "      <td>Allsopps Lager 500ml</td>\n",
       "      <td>CAS</td>\n",
       "      <td>1.00</td>\n",
       "    </tr>\n",
       "    <tr>\n",
       "      <th>4</th>\n",
       "      <td>KE0018490</td>\n",
       "      <td>680, Kavote</td>\n",
       "      <td>On Trade</td>\n",
       "      <td>Traditional Bar</td>\n",
       "      <td>Value</td>\n",
       "      <td>Kawaida</td>\n",
       "      <td>Platinum</td>\n",
       "      <td>Rural Accessible</td>\n",
       "      <td>Senator</td>\n",
       "      <td>Emerging Business</td>\n",
       "      <td>Nyeri (EB)</td>\n",
       "      <td>Kianyaga (EB)</td>\n",
       "      <td>Karumandi</td>\n",
       "      <td>Beer</td>\n",
       "      <td>Senator Dark 50L</td>\n",
       "      <td>CAS</td>\n",
       "      <td>196.00</td>\n",
       "    </tr>\n",
       "  </tbody>\n",
       "</table>\n",
       "</div>"
      ],
      "text/plain": [
       "     CUST_CD    CUST_NAME Gloabl_Channel Global_Sub_segment Local_Segment1  \\\n",
       "0  KE0018490  680, Kavote       On Trade    Traditional Bar          Value   \n",
       "1  KE0018490  680, Kavote       On Trade    Traditional Bar          Value   \n",
       "2  KE0018490  680, Kavote       On Trade    Traditional Bar          Value   \n",
       "3  KE0018490  680, Kavote       On Trade    Traditional Bar          Value   \n",
       "4  KE0018490  680, Kavote       On Trade    Traditional Bar          Value   \n",
       "\n",
       "  Local_Segment3 Volume_Grade        Archi_Type     OBOS           Division  \\\n",
       "0        Kawaida     Platinum  Rural Accessible  Senator  Emerging Business   \n",
       "1        Kawaida     Platinum  Rural Accessible  Senator  Emerging Business   \n",
       "2        Kawaida     Platinum  Rural Accessible  Senator  Emerging Business   \n",
       "3        Kawaida     Platinum  Rural Accessible  Senator  Emerging Business   \n",
       "4        Kawaida     Platinum  Rural Accessible  Senator  Emerging Business   \n",
       "\n",
       "         Area      Territory      Route                   LEVEL1  \\\n",
       "0  Nyeri (EB)  Kianyaga (EB)  Karumandi  Alcoholic Pre-Mix Drink   \n",
       "1  Nyeri (EB)  Kianyaga (EB)  Karumandi  Alcoholic Pre-Mix Drink   \n",
       "2  Nyeri (EB)  Kianyaga (EB)  Karumandi  Alcoholic Pre-Mix Drink   \n",
       "3  Nyeri (EB)  Kianyaga (EB)  Karumandi                     Beer   \n",
       "4  Nyeri (EB)  Kianyaga (EB)  Karumandi                     Beer   \n",
       "\n",
       "                    PRD_DESC  UOM  SALEQTY  \n",
       "0      S.Ice Black Can 330ml  CAS     0.00  \n",
       "1          S.Ice Guarana Can  CAS     0.17  \n",
       "2  S.Ice Pineapple Punch Can  CAS     0.92  \n",
       "3       Allsopps Lager 500ml  CAS     1.00  \n",
       "4           Senator Dark 50L  CAS   196.00  "
      ]
     },
     "execution_count": 21,
     "metadata": {},
     "output_type": "execute_result"
    }
   ],
   "source": [
    "#view of the 5 top rows\n",
    "sales.head(5)"
   ]
  },
  {
   "cell_type": "code",
   "execution_count": 22,
   "metadata": {},
   "outputs": [
    {
     "data": {
      "text/plain": [
       "(21424, 17)"
      ]
     },
     "execution_count": 22,
     "metadata": {},
     "output_type": "execute_result"
    }
   ],
   "source": [
    "sales.shape"
   ]
  },
  {
   "cell_type": "code",
   "execution_count": 23,
   "metadata": {},
   "outputs": [
    {
     "name": "stdout",
     "output_type": "stream",
     "text": [
      "('CUST_CD', 0)\n",
      "('CUST_NAME', 0)\n",
      "('Gloabl_Channel', 0)\n",
      "('Global_Sub_segment', 0)\n",
      "('Local_Segment1', 0)\n",
      "('Local_Segment3', 0)\n",
      "('Volume_Grade', 0)\n",
      "('Archi_Type', 0)\n",
      "('OBOS', 0)\n",
      "('Division', 0)\n",
      "('Area', 0)\n",
      "('Territory', 0)\n",
      "('Route', 0)\n",
      "('LEVEL1', 12896)\n",
      "('PRD_DESC', 12896)\n",
      "('UOM', 12896)\n",
      "('SALEQTY', 12896)\n"
     ]
    }
   ],
   "source": [
    "# check for null values\n",
    "for col in sales.columns:\n",
    "    print((col, sum(sales[col].isnull())))"
   ]
  },
  {
   "cell_type": "code",
   "execution_count": 24,
   "metadata": {},
   "outputs": [
    {
     "ename": "TypeError",
     "evalue": "'module' object is not callable",
     "output_type": "error",
     "traceback": [
      "\u001b[1;31m---------------------------------------------------------------------------\u001b[0m",
      "\u001b[1;31mTypeError\u001b[0m                                 Traceback (most recent call last)",
      "Cell \u001b[1;32mIn[24], line 4\u001b[0m\n\u001b[0;32m      1\u001b[0m sales \u001b[38;5;241m=\u001b[39m \u001b[38;5;124m\"\u001b[39m\u001b[38;5;124moctober sales.xlsx\u001b[39m\u001b[38;5;124m\"\u001b[39m\n\u001b[0;32m      3\u001b[0m \u001b[38;5;66;03m# creating a wordcloud object\u001b[39;00m\n\u001b[1;32m----> 4\u001b[0m wordcloud \u001b[38;5;241m=\u001b[39m \u001b[43mwordcloud\u001b[49m\u001b[43m(\u001b[49m\u001b[43mwidth\u001b[49m\u001b[38;5;241;43m=\u001b[39;49m\u001b[38;5;241;43m800\u001b[39;49m\u001b[43m,\u001b[49m\u001b[43m \u001b[49m\u001b[43mheight\u001b[49m\u001b[38;5;241;43m=\u001b[39;49m\u001b[38;5;241;43m400\u001b[39;49m\u001b[43m,\u001b[49m\u001b[43m \u001b[49m\u001b[43mbackground_color\u001b[49m\u001b[43m \u001b[49m\u001b[38;5;241;43m=\u001b[39;49m\u001b[43m \u001b[49m\u001b[38;5;124;43m'\u001b[39;49m\u001b[38;5;124;43mwhite\u001b[39;49m\u001b[38;5;124;43m'\u001b[39;49m\u001b[43m)\u001b[49m\u001b[38;5;241m.\u001b[39mgenerate(sales)\n\u001b[0;32m      6\u001b[0m \u001b[38;5;66;03m#Displaying the word cloud using matplotlib\u001b[39;00m\n\u001b[0;32m      7\u001b[0m plt\u001b[38;5;241m.\u001b[39mFigure(figsize\u001b[38;5;241m=\u001b[39m(\u001b[38;5;241m10\u001b[39m,\u001b[38;5;241m8\u001b[39m))\n",
      "\u001b[1;31mTypeError\u001b[0m: 'module' object is not callable"
     ]
    }
   ],
   "source": [
    "sales = \"october sales.xlsx\"\n",
    "\n",
    "# creating a wordcloud object\n",
    "wordcloud = wordcloud(width=800, height=400, background_color = 'white').generate(sales)\n",
    "\n",
    "#Displaying the word cloud using matplotlib\n",
    "plt.Figure(figsize=(10,8))\n",
    "plt.imshow(wordcloud, interpolation='bilinear')\n",
    "plt.axis('off')\n",
    "plt.show()"
   ]
  },
  {
   "cell_type": "code",
   "execution_count": null,
   "metadata": {},
   "outputs": [],
   "source": [
    "#showing the frequency of each category.\n"
   ]
  }
 ],
 "metadata": {
  "kernelspec": {
   "display_name": "Python 3",
   "language": "python",
   "name": "python3"
  },
  "language_info": {
   "codemirror_mode": {
    "name": "ipython",
    "version": 3
   },
   "file_extension": ".py",
   "mimetype": "text/x-python",
   "name": "python",
   "nbconvert_exporter": "python",
   "pygments_lexer": "ipython3",
   "version": "3.11.2"
  }
 },
 "nbformat": 4,
 "nbformat_minor": 2
}
